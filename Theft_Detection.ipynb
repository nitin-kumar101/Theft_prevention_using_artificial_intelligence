{
  "cells": [
    {
      "cell_type": "code",
      "source": [
        "from google.colab import drive\n",
        "drive.mount('/content/drive')"
      ],
      "metadata": {
        "colab": {
          "base_uri": "https://localhost:8080/"
        },
        "id": "Rb3ohZ7dUnRJ",
        "outputId": "a8704ba7-4c56-483c-de6d-a4e80bfff474"
      },
      "id": "Rb3ohZ7dUnRJ",
      "execution_count": null,
      "outputs": [
        {
          "output_type": "stream",
          "name": "stdout",
          "text": [
            "Mounted at /content/drive\n"
          ]
        }
      ]
    },
    {
      "cell_type": "code",
      "execution_count": null,
      "id": "de133108",
      "metadata": {
        "id": "de133108",
        "outputId": "085380c9-3aba-4b45-ac18-fa78aafc953e",
        "colab": {
          "base_uri": "https://localhost:8080/",
          "height": 237
        }
      },
      "outputs": [
        {
          "output_type": "error",
          "ename": "FileNotFoundError",
          "evalue": "ignored",
          "traceback": [
            "\u001b[0;31m---------------------------------------------------------------------------\u001b[0m",
            "\u001b[0;31mFileNotFoundError\u001b[0m                         Traceback (most recent call last)",
            "\u001b[0;32m<ipython-input-4-31f3fa7d8b27>\u001b[0m in \u001b[0;36m<module>\u001b[0;34m\u001b[0m\n\u001b[1;32m      1\u001b[0m \u001b[0;32mimport\u001b[0m \u001b[0mcv2\u001b[0m\u001b[0;34m,\u001b[0m\u001b[0mos\u001b[0m\u001b[0;34m\u001b[0m\u001b[0;34m\u001b[0m\u001b[0m\n\u001b[1;32m      2\u001b[0m \u001b[0mdata_path\u001b[0m\u001b[0;34m=\u001b[0m\u001b[0;34mr\"/content/drive/My Drive/Colab Notebooks/dataset\"\u001b[0m\u001b[0;34m\u001b[0m\u001b[0;34m\u001b[0m\u001b[0m\n\u001b[0;32m----> 3\u001b[0;31m \u001b[0mcategories\u001b[0m\u001b[0;34m=\u001b[0m\u001b[0mos\u001b[0m\u001b[0;34m.\u001b[0m\u001b[0mlistdir\u001b[0m\u001b[0;34m(\u001b[0m\u001b[0mdata_path\u001b[0m\u001b[0;34m)\u001b[0m\u001b[0;34m\u001b[0m\u001b[0;34m\u001b[0m\u001b[0m\n\u001b[0m\u001b[1;32m      4\u001b[0m \u001b[0mlabels\u001b[0m\u001b[0;34m=\u001b[0m\u001b[0;34m[\u001b[0m\u001b[0mi\u001b[0m \u001b[0;32mfor\u001b[0m \u001b[0mi\u001b[0m \u001b[0;32min\u001b[0m \u001b[0mrange\u001b[0m\u001b[0;34m(\u001b[0m\u001b[0mlen\u001b[0m\u001b[0;34m(\u001b[0m\u001b[0mcategories\u001b[0m\u001b[0;34m)\u001b[0m\u001b[0;34m)\u001b[0m\u001b[0;34m]\u001b[0m\u001b[0;34m\u001b[0m\u001b[0;34m\u001b[0m\u001b[0m\n\u001b[1;32m      5\u001b[0m \u001b[0;34m\u001b[0m\u001b[0m\n",
            "\u001b[0;31mFileNotFoundError\u001b[0m: [Errno 2] No such file or directory: '/content/drive/My Drive/Colab Notebooks/dataset'"
          ]
        }
      ],
      "source": [
        "import cv2,os\n",
        "data_path=r\"/content/drive/My Drive/Colab Notebooks/dataset\"\n",
        "categories=os.listdir(data_path)\n",
        "labels=[i for i in range(len(categories))]\n",
        "\n",
        "label_dict=dict(zip(categories,labels))\n",
        "\n",
        "print(label_dict)\n",
        "print(categories)\n",
        "print(labels)"
      ]
    },
    {
      "cell_type": "code",
      "execution_count": null,
      "id": "30593a66",
      "metadata": {
        "id": "30593a66"
      },
      "outputs": [],
      "source": [
        "img_size=100\n",
        "data=[]\n",
        "target=[]\n",
        "\n",
        "\n",
        "for category in categories:\n",
        "    folder_path=os.path.join(data_path,category)\n",
        "    img_names=os.listdir(folder_path)\n",
        "        \n",
        "    for img_name in img_names:\n",
        "        img_path=os.path.join(folder_path,img_name)\n",
        "        img=cv2.imread(img_path)\n",
        "\n",
        "        try:\n",
        "            gray=cv2.cvtColor(img,cv2.COLOR_BGR2GRAY)           \n",
        "           \n",
        "            resized=cv2.resize(gray,(img_size,img_size))\n",
        "            \n",
        "            data.append(resized)\n",
        "            target.append(label_dict[category])\n",
        "            \n",
        "\n",
        "        except Exception as e:\n",
        "            print('Exception:',e)\n",
        "           "
      ]
    },
    {
      "cell_type": "code",
      "execution_count": null,
      "id": "8acdcb02",
      "metadata": {
        "id": "8acdcb02"
      },
      "outputs": [],
      "source": [
        "import numpy as np\n",
        "data=np.array(data)/255.0\n",
        "data=np.reshape(data,(data.shape[0],img_size,img_size,1))\n",
        "target=np.array(target)\n",
        "from keras.utils import np_utils\n",
        "new_target=np_utils.to_categorical(target)"
      ]
    },
    {
      "cell_type": "code",
      "execution_count": null,
      "id": "4abdae56",
      "metadata": {
        "id": "4abdae56"
      },
      "outputs": [],
      "source": [
        "from sklearn.model_selection import train_test_split"
      ]
    },
    {
      "cell_type": "code",
      "execution_count": null,
      "id": "564b4309",
      "metadata": {
        "id": "564b4309"
      },
      "outputs": [],
      "source": [
        "X_train,X_test,Y_train,Y_test = train_test_split(data,new_target,test_size=0.1)"
      ]
    },
    {
      "cell_type": "code",
      "execution_count": null,
      "id": "eb3aa06f",
      "metadata": {
        "id": "eb3aa06f"
      },
      "outputs": [],
      "source": [
        "X_train.shape,X_test.shape,Y_train.shape,Y_test.shape"
      ]
    },
    {
      "cell_type": "code",
      "execution_count": null,
      "id": "36009877",
      "metadata": {
        "id": "36009877"
      },
      "outputs": [],
      "source": [
        "np.save(r\"C:\\Users\\LEN\\Downloads\\New_data\",data)\n",
        "np.save(r\"C:\\Users\\LEN\\Downloads\\New_target\",new_target)"
      ]
    },
    {
      "cell_type": "code",
      "execution_count": null,
      "id": "51d06192",
      "metadata": {
        "id": "51d06192"
      },
      "outputs": [],
      "source": [
        "import numpy as np\n",
        "data=np.load(r\"C:\\Users\\LEN\\Downloads\\New_data.npy\")\n",
        "new_target=np.load(r\"C:\\Users\\LEN\\Downloads\\New_target.npy\")"
      ]
    },
    {
      "cell_type": "code",
      "execution_count": null,
      "id": "5850dcf9",
      "metadata": {
        "id": "5850dcf9"
      },
      "outputs": [],
      "source": [
        "from keras.models import Sequential\n",
        "from keras.layers import Dense,Activation,Flatten,Dropout\n",
        "from keras.layers import Conv2D,MaxPooling2D\n",
        "from keras.callbacks import ModelCheckpoint\n",
        "\n",
        "model=Sequential()\n",
        "\n",
        "model.add(Conv2D(200,(3,3),input_shape=data.shape[1:]))\n",
        "model.add(Activation('relu'))\n",
        "model.add(MaxPooling2D(pool_size=(2,2)))\n",
        "#The first CNN layer followed by Relu and MaxPooling layers\n",
        "\n",
        "model.add(Conv2D(100,(3,3)))\n",
        "model.add(Activation('relu'))\n",
        "model.add(MaxPooling2D(pool_size=(2,2)))\n",
        "#The second convolution layer followed by Relu and MaxPooling layers\n",
        "\n",
        "model.add(Flatten())\n",
        "model.add(Dropout(0.5))\n",
        "#Flatten layer to stack the output convolutions from second convolution layer\n",
        "model.add(Dense(50,activation='relu'))\n",
        "#Dense layer of 64 neurons\n",
        "model.add(Dense(2,activation='softmax'))\n",
        "#The Final layer with two outputs for two categories\n",
        "\n",
        "model.compile(loss='categorical_crossentropy',optimizer='adam',metrics=['accuracy'])"
      ]
    },
    {
      "cell_type": "code",
      "execution_count": null,
      "id": "fc917a2b",
      "metadata": {
        "id": "fc917a2b"
      },
      "outputs": [],
      "source": [
        "checkpoint = ModelCheckpoint('best one',monitor='val_loss',verbose=0,save_best_only=True,mode='auto')\n",
        "history=model.fit(X_train,Y_train,epochs=2,callbacks=[checkpoint],validation_split=0.2)"
      ]
    },
    {
      "cell_type": "code",
      "execution_count": null,
      "id": "1fcc0c17",
      "metadata": {
        "id": "1fcc0c17"
      },
      "outputs": [],
      "source": [
        "model.save(r\"C:\\Users\\LEN\\Downloads\\Model.h5\")"
      ]
    },
    {
      "cell_type": "code",
      "execution_count": null,
      "id": "c50102af",
      "metadata": {
        "id": "c50102af"
      },
      "outputs": [],
      "source": [
        "from keras.models import load_model\n",
        "import cv2\n",
        "import numpy as np\n",
        "from pygame import mixer\n",
        "import os\n",
        "import smtplib\n",
        "from email.mime.text import MIMEText\n",
        "from email.mime.multipart import MIMEMultipart\n",
        "from email.mime.base import MIMEBase\n",
        "from email import encoders"
      ]
    },
    {
      "cell_type": "code",
      "execution_count": null,
      "id": "ddf0092a",
      "metadata": {
        "id": "ddf0092a"
      },
      "outputs": [],
      "source": [
        "mixer.init()\n",
        "sound = mixer.Sound(r\"C:\\Users\\LEN\\Downloads\\FaceMask_detection_alarm.wav\")\n",
        "\n",
        "\n",
        "\n",
        "model = load_model(r\"C:\\Users\\LEN\\Downloads\\Model.h5\")\n",
        "\n",
        "face_clsfr = cv2.CascadeClassifier(r\"C:\\Users\\LEN\\Downloads\\haarcascade_frontalface_default.xml\")"
      ]
    },
    {
      "cell_type": "code",
      "execution_count": null,
      "id": "50d13491",
      "metadata": {
        "id": "50d13491"
      },
      "outputs": [],
      "source": [
        "cap = cv2.VideoCapture(0)\n",
        "\n",
        "labels_dict = {1: 'innocent', 0: 'intruder'}\n",
        "color_dict = {0: (0, 0, 255), 1: (0, 255, 0)}\n",
        "\n",
        "\n",
        "while (True):\n",
        "\n",
        "    ret, frame = cap.read()\n",
        "    gray = cv2.cvtColor(frame, cv2.COLOR_BGR2GRAY)\n",
        "    faces = face_clsfr.detectMultiScale(gray, 1.3, 5)\n",
        "\n",
        "    for (x, y, w, h) in faces:\n",
        "\n",
        "        face_img = gray[y:y + w, x:x + w]\n",
        "        resized = cv2.resize(face_img, (100, 100))\n",
        "        normalized = resized / 255.0\n",
        "        reshaped = np.reshape(normalized, (1, 100, 100, 1))\n",
        "        result = model.predict(reshaped)\n",
        "\n",
        "        label = np.argmax(result, axis=1)[0]\n",
        "\n",
        "        cv2.rectangle(frame, (x, y), (x + w, y + h), color_dict[label], 4)\n",
        "        cv2.rectangle(frame, (x, y - 40), (x + w, y), color_dict[label], 4)\n",
        "        cv2.putText(frame, labels_dict[label], (x, y - 10), cv2.FONT_ITALIC, 1, (255, 255, 255), 4)\n",
        "        \n",
        "        if(label==0):\n",
        "            sound.play()\n",
        "            crop_img = frame[y: y + h, x: x + w]\n",
        "            cv2.imwrite(r\"C:\\Users\\LEN\\Downloads\\face.jpg\", crop_img)\n",
        "            \n",
        "\n",
        "\n",
        "            email_user='funnybro017@gmail.com'\n",
        "            email_send='funnybro017@gmail.com'\n",
        "            subject='Alert'\n",
        "\n",
        "            msg=MIMEMultipart()\n",
        "            msg['From']=email_user\n",
        "            msg['To']=email_send\n",
        "            msg['Subject']=subject\n",
        "\n",
        "            body='Some one entered your house please be alert and please check the attachment  of the person'\n",
        "            msg.attach(MIMEText(body,'plain'))\n",
        "\n",
        "            filename=r\"C:\\Users\\LEN\\Downloads\\face.jpg\"\n",
        "            attachment=open(filename,'rb')\n",
        "\n",
        "            part=MIMEBase('application','octet-stream')\n",
        "            part.set_payload((attachment).read())\n",
        "            encoders.encode_base64(part)\n",
        "            part.add_header('Content-Disposition',\"attachment;filename= \"+filename)\n",
        "\n",
        "            msg.attach(part)\n",
        "            text=msg.as_string()\n",
        "            server=smtplib.SMTP('smtp.gmail.com',587)\n",
        "            server.starttls()\n",
        "            server.login(email_user,'9390148262')\n",
        "            server.sendmail(email_user,email_send,text)\n",
        "            server.quit()\n",
        "\n",
        "        else:\n",
        "            pass\n",
        "            break\n",
        "\n",
        "    cv2.imshow('Theft Detection ', frame)\n",
        "    if cv2.waitKey(1) & 0xFF == ord('q'):\n",
        "        break\n",
        "cap.release()\n",
        "cv2.destroyAllWindows()\n"
      ]
    }
  ],
  "metadata": {
    "kernelspec": {
      "display_name": "Python 3",
      "language": "python",
      "name": "python3"
    },
    "language_info": {
      "codemirror_mode": {
        "name": "ipython",
        "version": 3
      },
      "file_extension": ".py",
      "mimetype": "text/x-python",
      "name": "python",
      "nbconvert_exporter": "python",
      "pygments_lexer": "ipython3",
      "version": "3.8.8"
    },
    "colab": {
      "provenance": []
    }
  },
  "nbformat": 4,
  "nbformat_minor": 5
}